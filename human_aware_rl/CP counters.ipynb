{
 "cells": [
  {
   "cell_type": "code",
   "execution_count": 2,
   "metadata": {},
   "outputs": [
    {
     "name": "stderr",
     "output_type": "stream",
     "text": [
      "c:\\Users\\jhjhe\\anaconda3\\envs\\overcooked_ai\\lib\\site-packages\\tensorflow\\python\\framework\\dtypes.py:526: FutureWarning: Passing (type, 1) or '1type' as a synonym of type is deprecated; in a future version of numpy, it will be understood as (type, (1,)) / '(1,)type'.\n",
      "  _np_qint8 = np.dtype([(\"qint8\", np.int8, 1)])\n",
      "c:\\Users\\jhjhe\\anaconda3\\envs\\overcooked_ai\\lib\\site-packages\\tensorflow\\python\\framework\\dtypes.py:527: FutureWarning: Passing (type, 1) or '1type' as a synonym of type is deprecated; in a future version of numpy, it will be understood as (type, (1,)) / '(1,)type'.\n",
      "  _np_quint8 = np.dtype([(\"quint8\", np.uint8, 1)])\n",
      "c:\\Users\\jhjhe\\anaconda3\\envs\\overcooked_ai\\lib\\site-packages\\tensorflow\\python\\framework\\dtypes.py:528: FutureWarning: Passing (type, 1) or '1type' as a synonym of type is deprecated; in a future version of numpy, it will be understood as (type, (1,)) / '(1,)type'.\n",
      "  _np_qint16 = np.dtype([(\"qint16\", np.int16, 1)])\n",
      "c:\\Users\\jhjhe\\anaconda3\\envs\\overcooked_ai\\lib\\site-packages\\tensorflow\\python\\framework\\dtypes.py:529: FutureWarning: Passing (type, 1) or '1type' as a synonym of type is deprecated; in a future version of numpy, it will be understood as (type, (1,)) / '(1,)type'.\n",
      "  _np_quint16 = np.dtype([(\"quint16\", np.uint16, 1)])\n",
      "c:\\Users\\jhjhe\\anaconda3\\envs\\overcooked_ai\\lib\\site-packages\\tensorflow\\python\\framework\\dtypes.py:530: FutureWarning: Passing (type, 1) or '1type' as a synonym of type is deprecated; in a future version of numpy, it will be understood as (type, (1,)) / '(1,)type'.\n",
      "  _np_qint32 = np.dtype([(\"qint32\", np.int32, 1)])\n",
      "c:\\Users\\jhjhe\\anaconda3\\envs\\overcooked_ai\\lib\\site-packages\\tensorflow\\python\\framework\\dtypes.py:535: FutureWarning: Passing (type, 1) or '1type' as a synonym of type is deprecated; in a future version of numpy, it will be understood as (type, (1,)) / '(1,)type'.\n",
      "  np_resource = np.dtype([(\"resource\", np.ubyte, 1)])\n"
     ]
    }
   ],
   "source": [
    "from overcooked_ai_py.utils import save_pickle, load_pickle\n",
    "\n",
    "from human_aware_rl.experiments.planning_experiments import CP_evaluation"
   ]
  },
  {
   "cell_type": "code",
   "execution_count": 3,
   "metadata": {},
   "outputs": [],
   "source": [
    "best_bc_model_paths = load_pickle(\"data/bc_runs/best_bc_model_paths\")"
   ]
  },
  {
   "cell_type": "code",
   "execution_count": 4,
   "metadata": {},
   "outputs": [
    {
     "name": "stdout",
     "output_type": "stream",
     "text": [
      "Delivery horizon for layout random0: 2\n",
      "Loaded MediumLevelPlanner from c:\\users\\jhjhe\\documents\\delft\\rp\\human_aware_rl\\overcooked_ai\\overcooked_ai_py\\data\\planners\\random0_am.pkl\n",
      "Drop locations:  [(1, 0), (2, 1), (2, 2), (4, 2), (2, 3), (4, 3), (1, 4)]\n",
      "Pickup locations:  [(1, 0), (2, 1), (2, 2), (4, 2), (2, 3), (4, 3), (1, 4)]\n",
      "Valid counters:  [(1, 0), (2, 1), (2, 2), (4, 2), (2, 3), (4, 3), (1, 4)]\n",
      "If the two planning agents have same params, consider using CoupledPlanningPair instead to reduce computation time by a factor of 2\n"
     ]
    },
    {
     "name": "stderr",
     "output_type": "stream",
     "text": [
      "  0%|          | 0/1 [00:00<?, ?it/s]"
     ]
    },
    {
     "name": "stdout",
     "output_type": "stream",
     "text": [
      "X X X P X \n",
      "O   X ↑0P \n",
      "O ↑1X   X \n",
      "D   X   X \n",
      "X X X S X \n",
      "\n"
     ]
    }
   ],
   "source": [
    "layouts = ['random0']\n",
    "counters = {'simple': [(1,0), (3,0), (0,2), (4,2), (2,3)],'random0': [(1, 0), (2, 1), (2, 2), (4, 2), (2, 3), (4, 3), (1, 4)] }\n",
    "result = CP_evaluation(best_bc_model_paths, layouts, counter_dict=counters)"
   ]
  }
 ],
 "metadata": {
  "kernelspec": {
   "display_name": "overcooked_ai",
   "language": "python",
   "name": "python3"
  },
  "language_info": {
   "codemirror_mode": {
    "name": "ipython",
    "version": 3
   },
   "file_extension": ".py",
   "mimetype": "text/x-python",
   "name": "python",
   "nbconvert_exporter": "python",
   "pygments_lexer": "ipython3",
   "version": "3.7.16"
  },
  "orig_nbformat": 4
 },
 "nbformat": 4,
 "nbformat_minor": 2
}
